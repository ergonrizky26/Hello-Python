{
 "cells": [
  {
   "cell_type": "markdown",
   "metadata": {},
   "source": [
    "# Hello Python"
   ]
  },
  {
   "cell_type": "markdown",
   "metadata": {},
   "source": [
    "Berikut adalah hal-hal yang perlu dipelajari dalam Bahasa Pemrograman Python. Yukk Belajar!!"
   ]
  },
  {
   "cell_type": "markdown",
   "metadata": {},
   "source": [
    "## Variabel "
   ]
  },
  {
   "cell_type": "markdown",
   "metadata": {},
   "source": [
    "Beberapa peraturan dalam menuliskan variabel :\n",
    "1. Nama variabel hanya boleh diawali oleh huruf atau underscore\n",
    "2. Nama variabel tidak boleh diawali oleh angka\n",
    "3. Nama variabel hanya bisa terdiri dari karakter alpha-numeric dan underscore (A-z, 0-9, dan _ )\n",
    "4. Nama variabel bersifat case sensitive\n",
    "5. Nama variabel tidak boleh menggunakan kata kunci yang sudah ada dalam Python seperti if, while, for dsb. "
   ]
  },
  {
   "cell_type": "code",
   "execution_count": 1,
   "metadata": {},
   "outputs": [
    {
     "name": "stdout",
     "output_type": "stream",
     "text": [
      "Bandung\n"
     ]
    }
   ],
   "source": [
    "# Contoh penulisan variabel\n",
    "namaKota = 'Bandung'\n",
    "print(namaKota)"
   ]
  },
  {
   "cell_type": "code",
   "execution_count": 2,
   "metadata": {},
   "outputs": [
    {
     "name": "stdout",
     "output_type": "stream",
     "text": [
      "1 2 3\n"
     ]
    }
   ],
   "source": [
    "# Inisiasi satu-satu\n",
    "a = 1\n",
    "b = 2\n",
    "c = 3\n",
    "print(a, b, c)"
   ]
  },
  {
   "cell_type": "code",
   "execution_count": 3,
   "metadata": {},
   "outputs": [
    {
     "name": "stdout",
     "output_type": "stream",
     "text": [
      "4 5 6\n"
     ]
    }
   ],
   "source": [
    "# Inisiasi Banyak\n",
    "d, e, f = 4, 5, 6\n",
    "print(d, e, f)"
   ]
  },
  {
   "cell_type": "code",
   "execution_count": 4,
   "metadata": {},
   "outputs": [
    {
     "name": "stdout",
     "output_type": "stream",
     "text": [
      "7 7 7\n"
     ]
    }
   ],
   "source": [
    "# Inisiasi Bernilai Sama\n",
    "g = h =i = 7\n",
    "print(g, h, i)"
   ]
  },
  {
   "cell_type": "markdown",
   "metadata": {},
   "source": [
    "### Menghapus Variabel"
   ]
  },
  {
   "cell_type": "markdown",
   "metadata": {},
   "source": [
    "Untuk menghapus variabel kita dapat memanfaatkan fungsi del()"
   ]
  },
  {
   "cell_type": "code",
   "execution_count": 5,
   "metadata": {},
   "outputs": [],
   "source": [
    "del(g)"
   ]
  },
  {
   "cell_type": "markdown",
   "metadata": {},
   "source": [
    "## Tipe Data"
   ]
  },
  {
   "cell_type": "markdown",
   "metadata": {},
   "source": [
    "Tipe Data merupakan klasifikasi data yang memberi tahu interpreter bagaimana programmer akan menggunakan datanya. Beberapa tipe data dalam Python adalah :\n",
    "1. Boolean -> Menyatakan benar True yang bernilai 1, atau salah False yang bernilai 0\n",
    "2. String -> Menyatakan karakter/kalimat bisa berupa huruf angka, dll (diapit dengan tanda \" atau ' )\n",
    "3. Integer -> Menyatakan bilangan bulat\n",
    "4. Float -> Menyatakan bilangan yang mempunyai koma \n",
    "5. Hexadecimal -> Menyatakan bilangan dalam format heksa (bilangan berbasis 16)\n",
    "6. Complex -> Menyatakan pasangan angka real dan imajiner\n",
    "7. List -> Data untaian yang menyimpan berbagai tipe data dan isinya bisa diubah ubah\n",
    "8. Tuple -> Data untaian yang menyimpan berbagai tipe data tetapi isinya tidak bisa diubah\n",
    "9. Dictionary -> Data untaian yang menyimpan berbagai tipe data berupa pasangan penunjuk dan nilai"
   ]
  },
  {
   "cell_type": "code",
   "execution_count": 6,
   "metadata": {},
   "outputs": [
    {
     "name": "stdout",
     "output_type": "stream",
     "text": [
      "<class 'bool'>\n"
     ]
    }
   ],
   "source": [
    "# Boolean\n",
    "a = True\n",
    "print(type(a))"
   ]
  },
  {
   "cell_type": "code",
   "execution_count": 7,
   "metadata": {},
   "outputs": [
    {
     "name": "stdout",
     "output_type": "stream",
     "text": [
      "<class 'str'>\n"
     ]
    }
   ],
   "source": [
    "# String\n",
    "contohString = 'Belajar Python menyenangkan'\n",
    "print(type(contohString))"
   ]
  },
  {
   "cell_type": "code",
   "execution_count": 8,
   "metadata": {},
   "outputs": [
    {
     "name": "stdout",
     "output_type": "stream",
     "text": [
      "<class 'int'>\n"
     ]
    }
   ],
   "source": [
    "# Integer\n",
    "contohInt = 1209\n",
    "print(type(contohInt))"
   ]
  },
  {
   "cell_type": "code",
   "execution_count": 9,
   "metadata": {},
   "outputs": [
    {
     "name": "stdout",
     "output_type": "stream",
     "text": [
      "<class 'float'>\n"
     ]
    }
   ],
   "source": [
    "# Float\n",
    "contohFloat = 3.14 \n",
    "print(type(contohFloat))"
   ]
  },
  {
   "cell_type": "code",
   "execution_count": 20,
   "metadata": {},
   "outputs": [
    {
     "name": "stdout",
     "output_type": "stream",
     "text": [
      "<class 'complex'>\n"
     ]
    }
   ],
   "source": [
    "# Complex\n",
    "contohComplex = 1 + 5j\n",
    "print(type(contohComplex))"
   ]
  },
  {
   "cell_type": "code",
   "execution_count": 21,
   "metadata": {},
   "outputs": [
    {
     "name": "stdout",
     "output_type": "stream",
     "text": [
      "<class 'list'>\n"
     ]
    }
   ],
   "source": [
    "# List\n",
    "contohList = ['xyz', 123, 2.13]\n",
    "print(type(contohList))"
   ]
  },
  {
   "cell_type": "code",
   "execution_count": 23,
   "metadata": {},
   "outputs": [
    {
     "name": "stdout",
     "output_type": "stream",
     "text": [
      "<class 'tuple'>\n"
     ]
    }
   ],
   "source": [
    "# Tuple \n",
    "contohTuple = ('xyz', 123, 2.13)\n",
    "print(type(contohTuple))"
   ]
  },
  {
   "cell_type": "code",
   "execution_count": 24,
   "metadata": {},
   "outputs": [
    {
     "name": "stdout",
     "output_type": "stream",
     "text": [
      "<class 'dict'>\n"
     ]
    }
   ],
   "source": [
    "# Dictionary\n",
    "contohDict = {'nama' : 'Mark',\n",
    "             'grade' : 'AB'}\n",
    "print(type(contohDict))"
   ]
  },
  {
   "cell_type": "code",
   "execution_count": null,
   "metadata": {},
   "outputs": [],
   "source": [
    " "
   ]
  }
 ],
 "metadata": {
  "kernelspec": {
   "display_name": "Python 3",
   "language": "python",
   "name": "python3"
  },
  "language_info": {
   "codemirror_mode": {
    "name": "ipython",
    "version": 3
   },
   "file_extension": ".py",
   "mimetype": "text/x-python",
   "name": "python",
   "nbconvert_exporter": "python",
   "pygments_lexer": "ipython3",
   "version": "3.6.5"
  }
 },
 "nbformat": 4,
 "nbformat_minor": 2
}
